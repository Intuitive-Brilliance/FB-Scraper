{
 "cells": [
  {
   "cell_type": "markdown",
   "id": "7883d3bb",
   "metadata": {},
   "source": [
    "## Import the Libraries"
   ]
  },
  {
   "cell_type": "code",
   "execution_count": null,
   "id": "318265ad",
   "metadata": {},
   "outputs": [],
   "source": [
    "from selenium import webdriver\n",
    "from selenium.webdriver.common.keys import Keys\n",
    "from selenium.webdriver.common.by import By\n",
    "from selenium.webdriver.support.ui import WebDriverWait,Select\n",
    "from selenium.webdriver.support import expected_conditions as EC\n",
    "from pytube import YouTube\n",
    "import pandas as pd\n",
    "import time\n",
    "import re\n",
    "import datetime"
   ]
  },
  {
   "cell_type": "markdown",
   "id": "9ec8e97c",
   "metadata": {},
   "source": [
    "## Go to the website and scrap the information"
   ]
  },
  {
   "cell_type": "code",
   "execution_count": null,
   "id": "1ced33b1",
   "metadata": {},
   "outputs": [],
   "source": [
    "driver = webdriver.Chrome(executable_path='chromedriver.exe')\n",
    "driver.get('https://www.facebook.com/groups/613870175328566/?mibextid=6NoCDW')\n",
    "\n",
    "SCROLL_PAUSE_TIME = 4\n",
    "count = 2\n",
    "first_height = driver.execute_script(\"return document.documentElement.scrollHeight\")\n",
    "last_height = first_height\n",
    "names = []\n",
    "comments=[]\n",
    "shares = []\n",
    "comment=[]\n",
    "while len(names)<21:\n",
    "    # Scroll down to bottom\n",
    "    last_height= driver.execute_script(\"return document.documentElement.scrollHeight\")\n",
    "    driver.execute_script(\"window.scrollTo(0, arguments[0]);\", last_height)\n",
    "    try:\n",
    "        for i in range(count,22):\n",
    "            obj = driver.find_elements(By.XPATH,f'/html/body/div[1]/div/div[1]/div/div[3]/div/div/div/div[1]/div[1]/div[4]/div/div/div[2]/div/div/div[1]/div[2]/div[2]/div[{i}]')\n",
    "            name_temp = obj[0].text.split('\\n')[0]\n",
    "            comment_temp = obj[0].text.split('\\n')[3]\n",
    "            #comments_temp = obj[0].text.split('\\n')[5]\n",
    "            #shares_temp = obj[0].text.split('\\n')[6]\n",
    "            if name_temp!='':\n",
    "                names.append(name_temp)\n",
    "                comment.append(comment_temp)\n",
    "                #comments.append(comments_temp)\n",
    "                #shares.append(shares_temp)\n",
    "    except:\n",
    "        pass\n",
    "    count = len(names)+1\n",
    "    # Wait to load page\n",
    "    time.sleep(SCROLL_PAUSE_TIME)\n",
    "names = names[1:]\n",
    "driver.close()"
   ]
  },
  {
   "cell_type": "code",
   "execution_count": null,
   "id": "f78179d4",
   "metadata": {},
   "outputs": [],
   "source": [
    "names,comment,comments,shares"
   ]
  },
  {
   "cell_type": "markdown",
   "id": "d898a399",
   "metadata": {},
   "source": [
    "## Create DataFrame and save the csv"
   ]
  },
  {
   "cell_type": "code",
   "execution_count": null,
   "id": "822fefd1",
   "metadata": {},
   "outputs": [],
   "source": [
    "df = pd.DataFrame(zip(names,comment,comments,shares),columns=['Author','Comment','No_of_Comments','No_of_Shares'] )"
   ]
  },
  {
   "cell_type": "code",
   "execution_count": null,
   "id": "be02d82d",
   "metadata": {},
   "outputs": [],
   "source": [
    "df.to_csv('./Output/scraped_data.csv')"
   ]
  }
 ],
 "metadata": {
  "kernelspec": {
   "display_name": "Python 3",
   "language": "python",
   "name": "python3"
  },
  "language_info": {
   "codemirror_mode": {
    "name": "ipython",
    "version": 3
   },
   "file_extension": ".py",
   "mimetype": "text/x-python",
   "name": "python",
   "nbconvert_exporter": "python",
   "pygments_lexer": "ipython3",
   "version": "3.8.8"
  }
 },
 "nbformat": 4,
 "nbformat_minor": 5
}
