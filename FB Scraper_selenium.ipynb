{
 "cells": [
  {
   "cell_type": "markdown",
   "id": "7883d3bb",
   "metadata": {},
   "source": [
    "## Import the Libraries"
   ]
  },
  {
   "cell_type": "code",
   "execution_count": 3,
   "id": "318265ad",
   "metadata": {},
   "outputs": [],
   "source": [
    "from selenium import webdriver\n",
    "from selenium.webdriver.common.keys import Keys\n",
    "from selenium.webdriver.common.by import By\n",
    "from selenium.webdriver.support.ui import WebDriverWait,Select\n",
    "from selenium.webdriver.support import expected_conditions as EC\n",
    "from pytube import YouTube\n",
    "import pandas as pd\n",
    "import time\n",
    "import re\n",
    "import datetime"
   ]
  },
  {
   "cell_type": "markdown",
   "id": "9ec8e97c",
   "metadata": {},
   "source": [
    "## Go to the website and scrap the information"
   ]
  },
  {
   "cell_type": "code",
   "execution_count": 15,
   "id": "1ced33b1",
   "metadata": {},
   "outputs": [
    {
     "name": "stderr",
     "output_type": "stream",
     "text": [
      "<ipython-input-15-cd926f5d60c3>:1: DeprecationWarning: executable_path has been deprecated, please pass in a Service object\n",
      "  driver = webdriver.Chrome(executable_path='chromedriver.exe')\n"
     ]
    },
    {
     "ename": "NoSuchWindowException",
     "evalue": "Message: no such window: target window already closed\nfrom unknown error: web view not found\n  (Session info: chrome=107.0.5304.107)\nStacktrace:\nBacktrace:\n\tOrdinal0 [0x010BACD3+2075859]\n\tOrdinal0 [0x0104EE61+1633889]\n\tOrdinal0 [0x00F4B7BD+571325]\n\tOrdinal0 [0x00F32E1A+470554]\n\tOrdinal0 [0x00F9AA0B+895499]\n\tOrdinal0 [0x00FAAC96+961686]\n\tOrdinal0 [0x00F97136+880950]\n\tOrdinal0 [0x00F6FEFD+720637]\n\tOrdinal0 [0x00F70F3F+724799]\n\tGetHandleVerifier [0x0136EED2+2769538]\n\tGetHandleVerifier [0x01360D95+2711877]\n\tGetHandleVerifier [0x0114A03A+521194]\n\tGetHandleVerifier [0x01148DA0+516432]\n\tOrdinal0 [0x0105682C+1665068]\n\tOrdinal0 [0x0105B128+1683752]\n\tOrdinal0 [0x0105B215+1683989]\n\tOrdinal0 [0x01066484+1729668]\n\tBaseThreadInitThunk [0x7702FEF9+25]\n\tRtlGetAppContainerNamedObjectPath [0x77747BBE+286]\n\tRtlGetAppContainerNamedObjectPath [0x77747B8E+238]\n",
     "output_type": "error",
     "traceback": [
      "\u001b[1;31m---------------------------------------------------------------------------\u001b[0m",
      "\u001b[1;31mNoSuchWindowException\u001b[0m                     Traceback (most recent call last)",
      "\u001b[1;32m<ipython-input-15-cd926f5d60c3>\u001b[0m in \u001b[0;36m<module>\u001b[1;34m\u001b[0m\n\u001b[0;32m     12\u001b[0m \u001b[1;32mwhile\u001b[0m \u001b[0mlen\u001b[0m\u001b[1;33m(\u001b[0m\u001b[0mnames\u001b[0m\u001b[1;33m)\u001b[0m\u001b[1;33m<\u001b[0m\u001b[1;36m21\u001b[0m\u001b[1;33m:\u001b[0m\u001b[1;33m\u001b[0m\u001b[1;33m\u001b[0m\u001b[0m\n\u001b[0;32m     13\u001b[0m     \u001b[1;31m# Scroll down to bottom\u001b[0m\u001b[1;33m\u001b[0m\u001b[1;33m\u001b[0m\u001b[1;33m\u001b[0m\u001b[0m\n\u001b[1;32m---> 14\u001b[1;33m     \u001b[0mlast_height\u001b[0m\u001b[1;33m=\u001b[0m \u001b[0mdriver\u001b[0m\u001b[1;33m.\u001b[0m\u001b[0mexecute_script\u001b[0m\u001b[1;33m(\u001b[0m\u001b[1;34m\"return document.documentElement.scrollHeight\"\u001b[0m\u001b[1;33m)\u001b[0m\u001b[1;33m\u001b[0m\u001b[1;33m\u001b[0m\u001b[0m\n\u001b[0m\u001b[0;32m     15\u001b[0m     \u001b[0mdriver\u001b[0m\u001b[1;33m.\u001b[0m\u001b[0mexecute_script\u001b[0m\u001b[1;33m(\u001b[0m\u001b[1;34m\"window.scrollTo(0, arguments[0]);\"\u001b[0m\u001b[1;33m,\u001b[0m \u001b[0mlast_height\u001b[0m\u001b[1;33m)\u001b[0m\u001b[1;33m\u001b[0m\u001b[1;33m\u001b[0m\u001b[0m\n\u001b[0;32m     16\u001b[0m     \u001b[1;32mtry\u001b[0m\u001b[1;33m:\u001b[0m\u001b[1;33m\u001b[0m\u001b[1;33m\u001b[0m\u001b[0m\n",
      "\u001b[1;32m~\\anaconda3\\lib\\site-packages\\selenium\\webdriver\\remote\\webdriver.py\u001b[0m in \u001b[0;36mexecute_script\u001b[1;34m(self, script, *args)\u001b[0m\n\u001b[0;32m    489\u001b[0m         \u001b[0mcommand\u001b[0m \u001b[1;33m=\u001b[0m \u001b[0mCommand\u001b[0m\u001b[1;33m.\u001b[0m\u001b[0mW3C_EXECUTE_SCRIPT\u001b[0m\u001b[1;33m\u001b[0m\u001b[1;33m\u001b[0m\u001b[0m\n\u001b[0;32m    490\u001b[0m \u001b[1;33m\u001b[0m\u001b[0m\n\u001b[1;32m--> 491\u001b[1;33m         return self.execute(command, {\n\u001b[0m\u001b[0;32m    492\u001b[0m             \u001b[1;34m'script'\u001b[0m\u001b[1;33m:\u001b[0m \u001b[0mscript\u001b[0m\u001b[1;33m,\u001b[0m\u001b[1;33m\u001b[0m\u001b[1;33m\u001b[0m\u001b[0m\n\u001b[0;32m    493\u001b[0m             'args': converted_args})['value']\n",
      "\u001b[1;32m~\\anaconda3\\lib\\site-packages\\selenium\\webdriver\\remote\\webdriver.py\u001b[0m in \u001b[0;36mexecute\u001b[1;34m(self, driver_command, params)\u001b[0m\n\u001b[0;32m    426\u001b[0m         \u001b[0mresponse\u001b[0m \u001b[1;33m=\u001b[0m \u001b[0mself\u001b[0m\u001b[1;33m.\u001b[0m\u001b[0mcommand_executor\u001b[0m\u001b[1;33m.\u001b[0m\u001b[0mexecute\u001b[0m\u001b[1;33m(\u001b[0m\u001b[0mdriver_command\u001b[0m\u001b[1;33m,\u001b[0m \u001b[0mparams\u001b[0m\u001b[1;33m)\u001b[0m\u001b[1;33m\u001b[0m\u001b[1;33m\u001b[0m\u001b[0m\n\u001b[0;32m    427\u001b[0m         \u001b[1;32mif\u001b[0m \u001b[0mresponse\u001b[0m\u001b[1;33m:\u001b[0m\u001b[1;33m\u001b[0m\u001b[1;33m\u001b[0m\u001b[0m\n\u001b[1;32m--> 428\u001b[1;33m             \u001b[0mself\u001b[0m\u001b[1;33m.\u001b[0m\u001b[0merror_handler\u001b[0m\u001b[1;33m.\u001b[0m\u001b[0mcheck_response\u001b[0m\u001b[1;33m(\u001b[0m\u001b[0mresponse\u001b[0m\u001b[1;33m)\u001b[0m\u001b[1;33m\u001b[0m\u001b[1;33m\u001b[0m\u001b[0m\n\u001b[0m\u001b[0;32m    429\u001b[0m             response['value'] = self._unwrap_value(\n\u001b[0;32m    430\u001b[0m                 response.get('value', None))\n",
      "\u001b[1;32m~\\anaconda3\\lib\\site-packages\\selenium\\webdriver\\remote\\errorhandler.py\u001b[0m in \u001b[0;36mcheck_response\u001b[1;34m(self, response)\u001b[0m\n\u001b[0;32m    241\u001b[0m                 \u001b[0malert_text\u001b[0m \u001b[1;33m=\u001b[0m \u001b[0mvalue\u001b[0m\u001b[1;33m[\u001b[0m\u001b[1;34m'alert'\u001b[0m\u001b[1;33m]\u001b[0m\u001b[1;33m.\u001b[0m\u001b[0mget\u001b[0m\u001b[1;33m(\u001b[0m\u001b[1;34m'text'\u001b[0m\u001b[1;33m)\u001b[0m\u001b[1;33m\u001b[0m\u001b[1;33m\u001b[0m\u001b[0m\n\u001b[0;32m    242\u001b[0m             \u001b[1;32mraise\u001b[0m \u001b[0mexception_class\u001b[0m\u001b[1;33m(\u001b[0m\u001b[0mmessage\u001b[0m\u001b[1;33m,\u001b[0m \u001b[0mscreen\u001b[0m\u001b[1;33m,\u001b[0m \u001b[0mstacktrace\u001b[0m\u001b[1;33m,\u001b[0m \u001b[0malert_text\u001b[0m\u001b[1;33m)\u001b[0m  \u001b[1;31m# type: ignore[call-arg]  # mypy is not smart enough here\u001b[0m\u001b[1;33m\u001b[0m\u001b[1;33m\u001b[0m\u001b[0m\n\u001b[1;32m--> 243\u001b[1;33m         \u001b[1;32mraise\u001b[0m \u001b[0mexception_class\u001b[0m\u001b[1;33m(\u001b[0m\u001b[0mmessage\u001b[0m\u001b[1;33m,\u001b[0m \u001b[0mscreen\u001b[0m\u001b[1;33m,\u001b[0m \u001b[0mstacktrace\u001b[0m\u001b[1;33m)\u001b[0m\u001b[1;33m\u001b[0m\u001b[1;33m\u001b[0m\u001b[0m\n\u001b[0m",
      "\u001b[1;31mNoSuchWindowException\u001b[0m: Message: no such window: target window already closed\nfrom unknown error: web view not found\n  (Session info: chrome=107.0.5304.107)\nStacktrace:\nBacktrace:\n\tOrdinal0 [0x010BACD3+2075859]\n\tOrdinal0 [0x0104EE61+1633889]\n\tOrdinal0 [0x00F4B7BD+571325]\n\tOrdinal0 [0x00F32E1A+470554]\n\tOrdinal0 [0x00F9AA0B+895499]\n\tOrdinal0 [0x00FAAC96+961686]\n\tOrdinal0 [0x00F97136+880950]\n\tOrdinal0 [0x00F6FEFD+720637]\n\tOrdinal0 [0x00F70F3F+724799]\n\tGetHandleVerifier [0x0136EED2+2769538]\n\tGetHandleVerifier [0x01360D95+2711877]\n\tGetHandleVerifier [0x0114A03A+521194]\n\tGetHandleVerifier [0x01148DA0+516432]\n\tOrdinal0 [0x0105682C+1665068]\n\tOrdinal0 [0x0105B128+1683752]\n\tOrdinal0 [0x0105B215+1683989]\n\tOrdinal0 [0x01066484+1729668]\n\tBaseThreadInitThunk [0x7702FEF9+25]\n\tRtlGetAppContainerNamedObjectPath [0x77747BBE+286]\n\tRtlGetAppContainerNamedObjectPath [0x77747B8E+238]\n"
     ]
    }
   ],
   "source": [
    "driver = webdriver.Chrome(executable_path='chromedriver.exe')\n",
    "driver.get('https://www.facebook.com/groups/613870175328566/?mibextid=6NoCDW')\n",
    "\n",
    "SCROLL_PAUSE_TIME = 4\n",
    "count = 2\n",
    "first_height = driver.execute_script(\"return document.documentElement.scrollHeight\")\n",
    "last_height = first_height\n",
    "names = []\n",
    "comments=[]\n",
    "shares = []\n",
    "comment=[]\n",
    "while len(names)<21:\n",
    "    # Scroll down to bottom\n",
    "    last_height= driver.execute_script(\"return document.documentElement.scrollHeight\")\n",
    "    driver.execute_script(\"window.scrollTo(0, arguments[0]);\", last_height)\n",
    "    try:\n",
    "        for i in range(count,22):\n",
    "            obj = driver.find_elements(By.XPATH,f'/html/body/div[1]/div/div[1]/div/div[3]/div/div/div/div[1]/div[1]/div[4]/div/div/div[2]/div/div/div[1]/div[2]/div[2]/div[{i}]')\n",
    "            name_temp = obj[0].text.split('\\n')[0]\n",
    "            comment_temp = obj[0].text.split('\\n')[3]\n",
    "            #comments_temp = obj[0].text.split('\\n')[5]\n",
    "            #shares_temp = obj[0].text.split('\\n')[6]\n",
    "            if name_temp!='':\n",
    "                names.append(name_temp)\n",
    "                comment.append(comment_temp)\n",
    "                #comments.append(comments_temp)\n",
    "                #shares.append(shares_temp)\n",
    "    except:\n",
    "        pass\n",
    "    count = len(names)+1\n",
    "    # Wait to load page\n",
    "    time.sleep(SCROLL_PAUSE_TIME)\n",
    "names = names[1:]\n",
    "driver.close()"
   ]
  },
  {
   "cell_type": "code",
   "execution_count": null,
   "id": "f78179d4",
   "metadata": {},
   "outputs": [],
   "source": [
    "names,comment,comments,shares"
   ]
  },
  {
   "cell_type": "markdown",
   "id": "d898a399",
   "metadata": {},
   "source": [
    "## Create DataFrame and save the csv"
   ]
  },
  {
   "cell_type": "code",
   "execution_count": null,
   "id": "822fefd1",
   "metadata": {},
   "outputs": [],
   "source": [
    "df = pd.DataFrame(zip(names,comment,comments,shares),columns=['Author','Comment','No_of_Comments','No_of_Shares'] )"
   ]
  },
  {
   "cell_type": "code",
   "execution_count": 16,
   "id": "be02d82d",
   "metadata": {},
   "outputs": [
    {
     "ename": "NameError",
     "evalue": "name 'df' is not defined",
     "output_type": "error",
     "traceback": [
      "\u001b[1;31m---------------------------------------------------------------------------\u001b[0m",
      "\u001b[1;31mNameError\u001b[0m                                 Traceback (most recent call last)",
      "\u001b[1;32m<ipython-input-16-d782cc02a0dd>\u001b[0m in \u001b[0;36m<module>\u001b[1;34m\u001b[0m\n\u001b[1;32m----> 1\u001b[1;33m \u001b[0mdf\u001b[0m\u001b[1;33m.\u001b[0m\u001b[0mto_csv\u001b[0m\u001b[1;33m(\u001b[0m\u001b[1;34m'scraped_data.csv'\u001b[0m\u001b[1;33m)\u001b[0m\u001b[1;33m\u001b[0m\u001b[1;33m\u001b[0m\u001b[0m\n\u001b[0m",
      "\u001b[1;31mNameError\u001b[0m: name 'df' is not defined"
     ]
    }
   ],
   "source": [
    "df.to_csv('scraped_data.csv')"
   ]
  }
 ],
 "metadata": {
  "kernelspec": {
   "display_name": "Python 3",
   "language": "python",
   "name": "python3"
  },
  "language_info": {
   "codemirror_mode": {
    "name": "ipython",
    "version": 3
   },
   "file_extension": ".py",
   "mimetype": "text/x-python",
   "name": "python",
   "nbconvert_exporter": "python",
   "pygments_lexer": "ipython3",
   "version": "3.8.8"
  }
 },
 "nbformat": 4,
 "nbformat_minor": 5
}
